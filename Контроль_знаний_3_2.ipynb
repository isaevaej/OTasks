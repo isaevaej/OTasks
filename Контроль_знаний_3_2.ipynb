{
  "cells": [
    {
      "cell_type": "markdown",
      "metadata": {
        "id": "1gxRZ_lI-4Da"
      },
      "source": [
        "###Задание"
      ]
    },
    {
      "cell_type": "markdown",
      "metadata": {
        "id": "35zqDBC_ksBq"
      },
      "source": [
        "# 1."
      ]
    },
    {
      "cell_type": "markdown",
      "metadata": {
        "id": "_Atec9Uy_CYJ"
      },
      "source": [
        "1) Запустить ячейку ниже, чтобы получить 2 жанра. Для полученных жанров провести все этапы предварительной обработки текста (как в примере), обучить наивный байесовский классификатор, численно оценить его работу."
      ]
    },
    {
      "cell_type": "code",
      "execution_count": 13,
      "metadata": {
        "colab": {
          "base_uri": "https://localhost:8080/"
        },
        "id": "XxkZ901zyLPQ",
        "outputId": "24006d70-5696-4f22-bc5b-7b042aa26905"
      },
      "outputs": [
        {
          "output_type": "stream",
          "name": "stdout",
          "text": [
            "ваши жанры Christian и Pop\n"
          ]
        }
      ],
      "source": [
        " import random\n",
        " lst = ['Christian', 'Country', 'Pop', 'Rock', 'R&B']\n",
        " print('ваши жанры', random.choice(lst), 'и', random.choice(lst))"
      ]
    },
    {
      "cell_type": "code",
      "execution_count": 130,
      "metadata": {
        "id": "VbUnwn3ciOQh",
        "colab": {
          "base_uri": "https://localhost:8080/",
          "height": 424
        },
        "outputId": "aff39798-77fd-4e4e-c93f-da8f195172d8"
      },
      "outputs": [
        {
          "output_type": "execute_result",
          "data": {
            "text/plain": [
              "         genre                                             lyrics  \\\n",
              "0    Christian   Who am I, that the Lord of all the earth Woul...   \n",
              "1    Christian   Glory Revealed  By His Wounds He was pierced ...   \n",
              "2    Christian   Lord of heaven and earth Lord of all creation...   \n",
              "3    Christian   I can only imagine what it will be like When ...   \n",
              "4    Christian   I am not skilled to understand What God has w...   \n",
              "..         ...                                                ...   \n",
              "367        Pop   Have you ever met a girl that you tried to da...   \n",
              "368        Pop   Im outta luck, outta love Gotta photograph, p...   \n",
              "369        Pop   She was a fast machine  She kept her motor cl...   \n",
              "370        Pop   Good times, these are the good times Leave yo...   \n",
              "371        Pop   All the small things True care, truth brings ...   \n",
              "\n",
              "                                               lowered  \n",
              "0     who am i, that the lord of all the earth woul...  \n",
              "1     glory revealed  by his wounds he was pierced ...  \n",
              "2     lord of heaven and earth lord of all creation...  \n",
              "3     i can only imagine what it will be like when ...  \n",
              "4     i am not skilled to understand what god has w...  \n",
              "..                                                 ...  \n",
              "367   have you ever met a girl that you tried to da...  \n",
              "368   im outta luck, outta love gotta photograph, p...  \n",
              "369   she was a fast machine  she kept her motor cl...  \n",
              "370   good times, these are the good times leave yo...  \n",
              "371   all the small things true care, truth brings ...  \n",
              "\n",
              "[194 rows x 3 columns]"
            ],
            "text/html": [
              "\n",
              "  <div id=\"df-20840a7f-112c-4761-a5f3-d236e5f998c0\" class=\"colab-df-container\">\n",
              "    <div>\n",
              "<style scoped>\n",
              "    .dataframe tbody tr th:only-of-type {\n",
              "        vertical-align: middle;\n",
              "    }\n",
              "\n",
              "    .dataframe tbody tr th {\n",
              "        vertical-align: top;\n",
              "    }\n",
              "\n",
              "    .dataframe thead th {\n",
              "        text-align: right;\n",
              "    }\n",
              "</style>\n",
              "<table border=\"1\" class=\"dataframe\">\n",
              "  <thead>\n",
              "    <tr style=\"text-align: right;\">\n",
              "      <th></th>\n",
              "      <th>genre</th>\n",
              "      <th>lyrics</th>\n",
              "      <th>lowered</th>\n",
              "    </tr>\n",
              "  </thead>\n",
              "  <tbody>\n",
              "    <tr>\n",
              "      <th>0</th>\n",
              "      <td>Christian</td>\n",
              "      <td>Who am I, that the Lord of all the earth Woul...</td>\n",
              "      <td>who am i, that the lord of all the earth woul...</td>\n",
              "    </tr>\n",
              "    <tr>\n",
              "      <th>1</th>\n",
              "      <td>Christian</td>\n",
              "      <td>Glory Revealed  By His Wounds He was pierced ...</td>\n",
              "      <td>glory revealed  by his wounds he was pierced ...</td>\n",
              "    </tr>\n",
              "    <tr>\n",
              "      <th>2</th>\n",
              "      <td>Christian</td>\n",
              "      <td>Lord of heaven and earth Lord of all creation...</td>\n",
              "      <td>lord of heaven and earth lord of all creation...</td>\n",
              "    </tr>\n",
              "    <tr>\n",
              "      <th>3</th>\n",
              "      <td>Christian</td>\n",
              "      <td>I can only imagine what it will be like When ...</td>\n",
              "      <td>i can only imagine what it will be like when ...</td>\n",
              "    </tr>\n",
              "    <tr>\n",
              "      <th>4</th>\n",
              "      <td>Christian</td>\n",
              "      <td>I am not skilled to understand What God has w...</td>\n",
              "      <td>i am not skilled to understand what god has w...</td>\n",
              "    </tr>\n",
              "    <tr>\n",
              "      <th>...</th>\n",
              "      <td>...</td>\n",
              "      <td>...</td>\n",
              "      <td>...</td>\n",
              "    </tr>\n",
              "    <tr>\n",
              "      <th>367</th>\n",
              "      <td>Pop</td>\n",
              "      <td>Have you ever met a girl that you tried to da...</td>\n",
              "      <td>have you ever met a girl that you tried to da...</td>\n",
              "    </tr>\n",
              "    <tr>\n",
              "      <th>368</th>\n",
              "      <td>Pop</td>\n",
              "      <td>Im outta luck, outta love Gotta photograph, p...</td>\n",
              "      <td>im outta luck, outta love gotta photograph, p...</td>\n",
              "    </tr>\n",
              "    <tr>\n",
              "      <th>369</th>\n",
              "      <td>Pop</td>\n",
              "      <td>She was a fast machine  She kept her motor cl...</td>\n",
              "      <td>she was a fast machine  she kept her motor cl...</td>\n",
              "    </tr>\n",
              "    <tr>\n",
              "      <th>370</th>\n",
              "      <td>Pop</td>\n",
              "      <td>Good times, these are the good times Leave yo...</td>\n",
              "      <td>good times, these are the good times leave yo...</td>\n",
              "    </tr>\n",
              "    <tr>\n",
              "      <th>371</th>\n",
              "      <td>Pop</td>\n",
              "      <td>All the small things True care, truth brings ...</td>\n",
              "      <td>all the small things true care, truth brings ...</td>\n",
              "    </tr>\n",
              "  </tbody>\n",
              "</table>\n",
              "<p>194 rows × 3 columns</p>\n",
              "</div>\n",
              "    <div class=\"colab-df-buttons\">\n",
              "\n",
              "  <div class=\"colab-df-container\">\n",
              "    <button class=\"colab-df-convert\" onclick=\"convertToInteractive('df-20840a7f-112c-4761-a5f3-d236e5f998c0')\"\n",
              "            title=\"Convert this dataframe to an interactive table.\"\n",
              "            style=\"display:none;\">\n",
              "\n",
              "  <svg xmlns=\"http://www.w3.org/2000/svg\" height=\"24px\" viewBox=\"0 -960 960 960\">\n",
              "    <path d=\"M120-120v-720h720v720H120Zm60-500h600v-160H180v160Zm220 220h160v-160H400v160Zm0 220h160v-160H400v160ZM180-400h160v-160H180v160Zm440 0h160v-160H620v160ZM180-180h160v-160H180v160Zm440 0h160v-160H620v160Z\"/>\n",
              "  </svg>\n",
              "    </button>\n",
              "\n",
              "  <style>\n",
              "    .colab-df-container {\n",
              "      display:flex;\n",
              "      gap: 12px;\n",
              "    }\n",
              "\n",
              "    .colab-df-convert {\n",
              "      background-color: #E8F0FE;\n",
              "      border: none;\n",
              "      border-radius: 50%;\n",
              "      cursor: pointer;\n",
              "      display: none;\n",
              "      fill: #1967D2;\n",
              "      height: 32px;\n",
              "      padding: 0 0 0 0;\n",
              "      width: 32px;\n",
              "    }\n",
              "\n",
              "    .colab-df-convert:hover {\n",
              "      background-color: #E2EBFA;\n",
              "      box-shadow: 0px 1px 2px rgba(60, 64, 67, 0.3), 0px 1px 3px 1px rgba(60, 64, 67, 0.15);\n",
              "      fill: #174EA6;\n",
              "    }\n",
              "\n",
              "    .colab-df-buttons div {\n",
              "      margin-bottom: 4px;\n",
              "    }\n",
              "\n",
              "    [theme=dark] .colab-df-convert {\n",
              "      background-color: #3B4455;\n",
              "      fill: #D2E3FC;\n",
              "    }\n",
              "\n",
              "    [theme=dark] .colab-df-convert:hover {\n",
              "      background-color: #434B5C;\n",
              "      box-shadow: 0px 1px 3px 1px rgba(0, 0, 0, 0.15);\n",
              "      filter: drop-shadow(0px 1px 2px rgba(0, 0, 0, 0.3));\n",
              "      fill: #FFFFFF;\n",
              "    }\n",
              "  </style>\n",
              "\n",
              "    <script>\n",
              "      const buttonEl =\n",
              "        document.querySelector('#df-20840a7f-112c-4761-a5f3-d236e5f998c0 button.colab-df-convert');\n",
              "      buttonEl.style.display =\n",
              "        google.colab.kernel.accessAllowed ? 'block' : 'none';\n",
              "\n",
              "      async function convertToInteractive(key) {\n",
              "        const element = document.querySelector('#df-20840a7f-112c-4761-a5f3-d236e5f998c0');\n",
              "        const dataTable =\n",
              "          await google.colab.kernel.invokeFunction('convertToInteractive',\n",
              "                                                    [key], {});\n",
              "        if (!dataTable) return;\n",
              "\n",
              "        const docLinkHtml = 'Like what you see? Visit the ' +\n",
              "          '<a target=\"_blank\" href=https://colab.research.google.com/notebooks/data_table.ipynb>data table notebook</a>'\n",
              "          + ' to learn more about interactive tables.';\n",
              "        element.innerHTML = '';\n",
              "        dataTable['output_type'] = 'display_data';\n",
              "        await google.colab.output.renderOutput(dataTable, element);\n",
              "        const docLink = document.createElement('div');\n",
              "        docLink.innerHTML = docLinkHtml;\n",
              "        element.appendChild(docLink);\n",
              "      }\n",
              "    </script>\n",
              "  </div>\n",
              "\n",
              "\n",
              "<div id=\"df-f81b720a-4c28-4452-9ca7-dd1ddfeb9427\">\n",
              "  <button class=\"colab-df-quickchart\" onclick=\"quickchart('df-f81b720a-4c28-4452-9ca7-dd1ddfeb9427')\"\n",
              "            title=\"Suggest charts\"\n",
              "            style=\"display:none;\">\n",
              "\n",
              "<svg xmlns=\"http://www.w3.org/2000/svg\" height=\"24px\"viewBox=\"0 0 24 24\"\n",
              "     width=\"24px\">\n",
              "    <g>\n",
              "        <path d=\"M19 3H5c-1.1 0-2 .9-2 2v14c0 1.1.9 2 2 2h14c1.1 0 2-.9 2-2V5c0-1.1-.9-2-2-2zM9 17H7v-7h2v7zm4 0h-2V7h2v10zm4 0h-2v-4h2v4z\"/>\n",
              "    </g>\n",
              "</svg>\n",
              "  </button>\n",
              "\n",
              "<style>\n",
              "  .colab-df-quickchart {\n",
              "      --bg-color: #E8F0FE;\n",
              "      --fill-color: #1967D2;\n",
              "      --hover-bg-color: #E2EBFA;\n",
              "      --hover-fill-color: #174EA6;\n",
              "      --disabled-fill-color: #AAA;\n",
              "      --disabled-bg-color: #DDD;\n",
              "  }\n",
              "\n",
              "  [theme=dark] .colab-df-quickchart {\n",
              "      --bg-color: #3B4455;\n",
              "      --fill-color: #D2E3FC;\n",
              "      --hover-bg-color: #434B5C;\n",
              "      --hover-fill-color: #FFFFFF;\n",
              "      --disabled-bg-color: #3B4455;\n",
              "      --disabled-fill-color: #666;\n",
              "  }\n",
              "\n",
              "  .colab-df-quickchart {\n",
              "    background-color: var(--bg-color);\n",
              "    border: none;\n",
              "    border-radius: 50%;\n",
              "    cursor: pointer;\n",
              "    display: none;\n",
              "    fill: var(--fill-color);\n",
              "    height: 32px;\n",
              "    padding: 0;\n",
              "    width: 32px;\n",
              "  }\n",
              "\n",
              "  .colab-df-quickchart:hover {\n",
              "    background-color: var(--hover-bg-color);\n",
              "    box-shadow: 0 1px 2px rgba(60, 64, 67, 0.3), 0 1px 3px 1px rgba(60, 64, 67, 0.15);\n",
              "    fill: var(--button-hover-fill-color);\n",
              "  }\n",
              "\n",
              "  .colab-df-quickchart-complete:disabled,\n",
              "  .colab-df-quickchart-complete:disabled:hover {\n",
              "    background-color: var(--disabled-bg-color);\n",
              "    fill: var(--disabled-fill-color);\n",
              "    box-shadow: none;\n",
              "  }\n",
              "\n",
              "  .colab-df-spinner {\n",
              "    border: 2px solid var(--fill-color);\n",
              "    border-color: transparent;\n",
              "    border-bottom-color: var(--fill-color);\n",
              "    animation:\n",
              "      spin 1s steps(1) infinite;\n",
              "  }\n",
              "\n",
              "  @keyframes spin {\n",
              "    0% {\n",
              "      border-color: transparent;\n",
              "      border-bottom-color: var(--fill-color);\n",
              "      border-left-color: var(--fill-color);\n",
              "    }\n",
              "    20% {\n",
              "      border-color: transparent;\n",
              "      border-left-color: var(--fill-color);\n",
              "      border-top-color: var(--fill-color);\n",
              "    }\n",
              "    30% {\n",
              "      border-color: transparent;\n",
              "      border-left-color: var(--fill-color);\n",
              "      border-top-color: var(--fill-color);\n",
              "      border-right-color: var(--fill-color);\n",
              "    }\n",
              "    40% {\n",
              "      border-color: transparent;\n",
              "      border-right-color: var(--fill-color);\n",
              "      border-top-color: var(--fill-color);\n",
              "    }\n",
              "    60% {\n",
              "      border-color: transparent;\n",
              "      border-right-color: var(--fill-color);\n",
              "    }\n",
              "    80% {\n",
              "      border-color: transparent;\n",
              "      border-right-color: var(--fill-color);\n",
              "      border-bottom-color: var(--fill-color);\n",
              "    }\n",
              "    90% {\n",
              "      border-color: transparent;\n",
              "      border-bottom-color: var(--fill-color);\n",
              "    }\n",
              "  }\n",
              "</style>\n",
              "\n",
              "  <script>\n",
              "    async function quickchart(key) {\n",
              "      const quickchartButtonEl =\n",
              "        document.querySelector('#' + key + ' button');\n",
              "      quickchartButtonEl.disabled = true;  // To prevent multiple clicks.\n",
              "      quickchartButtonEl.classList.add('colab-df-spinner');\n",
              "      try {\n",
              "        const charts = await google.colab.kernel.invokeFunction(\n",
              "            'suggestCharts', [key], {});\n",
              "      } catch (error) {\n",
              "        console.error('Error during call to suggestCharts:', error);\n",
              "      }\n",
              "      quickchartButtonEl.classList.remove('colab-df-spinner');\n",
              "      quickchartButtonEl.classList.add('colab-df-quickchart-complete');\n",
              "    }\n",
              "    (() => {\n",
              "      let quickchartButtonEl =\n",
              "        document.querySelector('#df-f81b720a-4c28-4452-9ca7-dd1ddfeb9427 button');\n",
              "      quickchartButtonEl.style.display =\n",
              "        google.colab.kernel.accessAllowed ? 'block' : 'none';\n",
              "    })();\n",
              "  </script>\n",
              "</div>\n",
              "    </div>\n",
              "  </div>\n"
            ],
            "application/vnd.google.colaboratory.intrinsic+json": {
              "type": "dataframe",
              "variable_name": "columns",
              "summary": "{\n  \"name\": \"columns\",\n  \"rows\": 194,\n  \"fields\": [\n    {\n      \"column\": \"genre\",\n      \"properties\": {\n        \"dtype\": \"category\",\n        \"num_unique_values\": 2,\n        \"samples\": [\n          \"Pop\",\n          \"Christian\"\n        ],\n        \"semantic_type\": \"\",\n        \"description\": \"\"\n      }\n    },\n    {\n      \"column\": \"lyrics\",\n      \"properties\": {\n        \"dtype\": \"string\",\n        \"num_unique_values\": 194,\n        \"samples\": [\n          \" Police Synchronicity Every Breath You Take Every breath you take  And every move you make  Every bond you break, every step you take  Ill be watching you   Every single day  And every word you say  Every game you play, every night you stay  Ill be watching you   Oh, cant you see  You belong to me?  How my poor heart aches   With every step you take  Every move you make  Every vow you break  Every smile you fake, every claim you stake  Ill be watching you   Since youve gone Ive been lost without a trace  I dream at night, I can only see your face  I look around, but its you I cant replace  I feel so cold, and I long for your embrace  I keep crying baby, baby please,   Oh, cant you see  You belong to me?  How my poor heart aches   With every step you take  Every move you make  Every vow you break  Every smile you fake, every claim you stake  Ill be watching you  Every move you make, every step you take  Ill be watching you  Ill be watching you \",\n          \" We do not have the lyrics for I Will Rise yet. \"\n        ],\n        \"semantic_type\": \"\",\n        \"description\": \"\"\n      }\n    },\n    {\n      \"column\": \"lowered\",\n      \"properties\": {\n        \"dtype\": \"string\",\n        \"num_unique_values\": 194,\n        \"samples\": [\n          \" police synchronicity every breath you take every breath you take  and every move you make  every bond you break, every step you take  ill be watching you   every single day  and every word you say  every game you play, every night you stay  ill be watching you   oh, cant you see  you belong to me?  how my poor heart aches   with every step you take  every move you make  every vow you break  every smile you fake, every claim you stake  ill be watching you   since youve gone ive been lost without a trace  i dream at night, i can only see your face  i look around, but its you i cant replace  i feel so cold, and i long for your embrace  i keep crying baby, baby please,   oh, cant you see  you belong to me?  how my poor heart aches   with every step you take  every move you make  every vow you break  every smile you fake, every claim you stake  ill be watching you  every move you make, every step you take  ill be watching you  ill be watching you \",\n          \" we do not have the lyrics for i will rise yet. \"\n        ],\n        \"semantic_type\": \"\",\n        \"description\": \"\"\n      }\n    }\n  ]\n}"
            }
          },
          "metadata": {},
          "execution_count": 130
        }
      ],
      "source": [
        "import pandas as pd\n",
        "from pandas.core.common import flatten\n",
        "data = pd.read_csv(\"dataset.csv\")\n",
        "columns = data[['genre', 'lyrics']]\n",
        "columns = columns[(columns.genre == 'Christian') | (columns.genre == 'Pop')]\n",
        "\n",
        "columns['lowered'] = columns['lyrics'].str.lower()\n",
        "columns"
      ]
    },
    {
      "cell_type": "markdown",
      "metadata": {
        "id": "ZnYH33ARj4e-"
      },
      "source": [
        "*Токенизация*"
      ]
    },
    {
      "cell_type": "markdown",
      "metadata": {
        "id": "TCFc_BYgTYot"
      },
      "source": []
    },
    {
      "cell_type": "code",
      "execution_count": 131,
      "metadata": {
        "id": "i2CA_a8DjZq7",
        "colab": {
          "base_uri": "https://localhost:8080/"
        },
        "outputId": "35092b14-5ad0-472d-e639-fc75763eb8df"
      },
      "outputs": [
        {
          "output_type": "stream",
          "name": "stderr",
          "text": [
            "[nltk_data] Downloading package punkt to /root/nltk_data...\n",
            "[nltk_data]   Package punkt is already up-to-date!\n"
          ]
        }
      ],
      "source": [
        "import nltk\n",
        "from nltk.tokenize import word_tokenize\n",
        "nltk.download('punkt')\n",
        "tokened = columns.apply(lambda row: nltk.word_tokenize(row['lowered']), axis=1)\n",
        "columns['tokened'] = tokened"
      ]
    },
    {
      "cell_type": "markdown",
      "metadata": {
        "id": "DJI5ARGDkRZs"
      },
      "source": [
        "Удаление стоп-слов"
      ]
    },
    {
      "cell_type": "code",
      "execution_count": 132,
      "metadata": {
        "colab": {
          "base_uri": "https://localhost:8080/"
        },
        "id": "o5nfwRPSjjdJ",
        "outputId": "344b69d9-7829-4429-c2aa-422a004d0b7d"
      },
      "outputs": [
        {
          "output_type": "stream",
          "name": "stderr",
          "text": [
            "[nltk_data] Downloading package stopwords to /root/nltk_data...\n",
            "[nltk_data]   Package stopwords is already up-to-date!\n"
          ]
        }
      ],
      "source": [
        "nltk.download('stopwords')\n",
        "from nltk.corpus import stopwords\n"
      ]
    },
    {
      "cell_type": "code",
      "execution_count": 133,
      "metadata": {
        "id": "wOdiGB8tjxcu"
      },
      "outputs": [],
      "source": [
        "noise = stopwords.words('english')\n",
        "withoutstop = columns['tokened'].apply(lambda x: [item for item in x if item not in noise])\n",
        "without_stop = []\n",
        "for a in withoutstop:\n",
        "    without_stop.append(\", \".join(a))\n",
        "columns['without_stop'] = without_stop"
      ]
    },
    {
      "cell_type": "markdown",
      "metadata": {
        "id": "NiWXAS7vkUmW"
      },
      "source": [
        "Лемматизация"
      ]
    },
    {
      "cell_type": "code",
      "execution_count": 134,
      "metadata": {
        "id": "gta_y3VHj1KR",
        "colab": {
          "base_uri": "https://localhost:8080/"
        },
        "outputId": "f528ad0c-da05-45ac-e6d4-bdcd7147cf9e"
      },
      "outputs": [
        {
          "output_type": "stream",
          "name": "stderr",
          "text": [
            "[nltk_data] Downloading package wordnet to /root/nltk_data...\n",
            "[nltk_data]   Package wordnet is already up-to-date!\n"
          ]
        }
      ],
      "source": [
        "from nltk.stem import WordNetLemmatizer\n",
        "nltk.download('wordnet')\n",
        "lemmatizer = WordNetLemmatizer()"
      ]
    },
    {
      "cell_type": "code",
      "execution_count": 135,
      "metadata": {
        "id": "wVahFd0Qj3S8"
      },
      "outputs": [],
      "source": [
        "lemmatized = columns['without_stop'].apply(lambda x: [lemmatizer.lemmatize(x)])\n",
        "lemma = []\n",
        "for a in lemmatized:\n",
        "    lemma.append(\", \".join(a))\n",
        "columns['lemmatized'] = lemma"
      ]
    },
    {
      "cell_type": "markdown",
      "metadata": {
        "id": "0zdmXqQsk9FY"
      },
      "source": [
        "Разделение данных"
      ]
    },
    {
      "cell_type": "code",
      "execution_count": 136,
      "metadata": {
        "id": "DTHHCjZUkhmO",
        "colab": {
          "base_uri": "https://localhost:8080/"
        },
        "outputId": "8e4dd2d1-0c41-422a-b9cb-aa1d331369cb"
      },
      "outputs": [
        {
          "output_type": "execute_result",
          "data": {
            "text/plain": [
              "Pop          100\n",
              "Christian     94\n",
              "Name: genre, dtype: int64"
            ]
          },
          "metadata": {},
          "execution_count": 136
        }
      ],
      "source": [
        "from sklearn.model_selection import train_test_split\n",
        "x_train_1, x_test_1, y_train_1, y_test_1 = train_test_split(columns.lemmatized, columns.genre, train_size = 0.7)\n",
        "columns.genre.value_counts()"
      ]
    },
    {
      "cell_type": "markdown",
      "metadata": {
        "id": "b2p2wpOClLVx"
      },
      "source": [
        "Векторизация"
      ]
    },
    {
      "cell_type": "code",
      "execution_count": 137,
      "metadata": {
        "id": "I3T9yG_FlKWb"
      },
      "outputs": [],
      "source": [
        "from sklearn.feature_extraction.text import CountVectorizer\n",
        "vectorizer_1 = CountVectorizer(ngram_range=(1, 3))\n",
        "vectorized_x_train = vectorizer_1.fit_transform(x_train_1)"
      ]
    },
    {
      "cell_type": "markdown",
      "metadata": {
        "id": "1QEGphj8lRkW"
      },
      "source": [
        "Классификация"
      ]
    },
    {
      "cell_type": "code",
      "execution_count": 138,
      "metadata": {
        "id": "sFIDzJSAlQ3K"
      },
      "outputs": [],
      "source": [
        "from sklearn.naive_bayes import MultinomialNB\n",
        "clf_1 = MultinomialNB()\n",
        "clf_1.fit(vectorized_x_train, y_train_1)\n",
        "vectorized_x_test = vectorizer_1.transform(x_test_1)"
      ]
    },
    {
      "cell_type": "markdown",
      "metadata": {
        "id": "Kk4wEc_6loL4"
      },
      "source": [
        "Оценка классификации"
      ]
    },
    {
      "cell_type": "code",
      "execution_count": 139,
      "metadata": {
        "id": "fOsoS6aTlu7z",
        "colab": {
          "base_uri": "https://localhost:8080/"
        },
        "outputId": "1718e582-bc8b-4a3f-9fbb-e0e86112cbfe"
      },
      "outputs": [
        {
          "output_type": "stream",
          "name": "stdout",
          "text": [
            "              precision    recall  f1-score   support\n",
            "\n",
            "   Christian       1.00      0.92      0.96        36\n",
            "         Pop       0.88      1.00      0.94        23\n",
            "\n",
            "    accuracy                           0.95        59\n",
            "   macro avg       0.94      0.96      0.95        59\n",
            "weighted avg       0.96      0.95      0.95        59\n",
            "\n"
          ]
        }
      ],
      "source": [
        "from sklearn.metrics import *\n",
        "pred = clf_1.predict(vectorized_x_test)\n",
        "print(classification_report(y_test_1, pred))"
      ]
    },
    {
      "cell_type": "markdown",
      "metadata": {
        "id": "wI1rVEg_kwCf"
      },
      "source": [
        "# 2."
      ]
    },
    {
      "cell_type": "markdown",
      "metadata": {
        "id": "bWdnLBHf_onv"
      },
      "source": [
        "2) Найти (нагуглить) по песне каждого из жанров, которые Вам достались, после необходимой обработки их текстов определить жанр обеих песен с помощью обученной в ходе выполнения предыдущего пункта модели."
      ]
    },
    {
      "cell_type": "code",
      "execution_count": 140,
      "metadata": {
        "id": "qHHk6-MfpFkS",
        "colab": {
          "base_uri": "https://localhost:8080/"
        },
        "outputId": "1dcc9e74-9b16-4353-8958-53ed9a252bb6"
      },
      "outputs": [
        {
          "output_type": "execute_result",
          "data": {
            "text/plain": [
              "array(['Christian', 'Pop'], dtype='<U9')"
            ]
          },
          "metadata": {},
          "execution_count": 140
        }
      ],
      "source": [
        "music = ['I can only imagine What it will be like When I walk by Your side I can only imagine What my eyes would see When Your face is before me I can only imagine Yeah Surrounded by Your glory What will my heart feel? Will I dance for You Jesus Or in awe of You be still? Will I stand in Your presence Or to my knees, will I fall? Will I sing hallelujah? Will I be able to speak at all? I can only imagine I can only imagine I can only imagine When that day comes And I find myself Standing in the Son I can only imagine When all I will do Is forever, forever worship You I can only imagine, yeah I can only imagine Surrounded by Your glory What will my heart feel? Will I dance for you Jesus Or in awe of You be still? Will I stand in your presence Or to my knees will I fall? Will I sing hallelujah? Will I be able to speak at all? I can only imagine, yeah I can only imagine Surrounded by Your glory What will my heart feel? Will I dance for you Jesus Or in awe of You be still? Will I stand in your presence Or to my knees, will I fall? Will I sing hallelujah? Will I be able to speak at all? I can only imagine, yeah I can only imagine I can only imagine, yeah-yeah I can only imagine I can only imagine I can only imagine I can only imagine When all I will do Is forever, forever worship You I can only imagine',\n",
        "            'Oh I cannot explain Every time it is the same Oh I feel that it is real Take my heart I have been lonely too long Oh I can not be so strong Take a chance for romance Take my heart I need you so There is no time I will ever go Cheri Cheri Lady Going through emotion Love is where you find it Listen to your heart Cheri Cheri Lady Living in devotion Always like the first time Let me take a part Cheri Cheri Lady Like there is no tomorrow Take my heart don not lose it Listen to your heart Cheri Cheri Lady To know you is to love you If you call me baby I will be always yours I get up and get down Oh my world turns around Who is right, who is wrong I don not know I have got pain in my heart Gotta love in my soul Easy come but I think easy go I need you so All those times I am not so strong Cheri Cheri Lady Going through emotion Love is where you find it Listen to your heart Cheri Cheri Lady Living in devotion Always like the first time Let me take a part Cheri Cheri Lady Like there is no tomorrow Take my heart don not lose it Listen to your heart Cheri Cheri Lady To know you is to love you If you call me baby I will be always yours']\n",
        "#нижний регистр\n",
        "music_lower = list(map(str.lower, music))\n",
        "#токенизация\n",
        "music_tok = [nltk.word_tokenize(i) for i in music_lower]\n",
        "music_tokened = list(flatten(music_tok))\n",
        "#удаление стоп-слов\n",
        "music_withoutstop = list(set(music_tokened) - set(noise))\n",
        "#лемматизация\n",
        "music_pro = [lemmatizer.lemmatize(i) for i in music_withoutstop]\n",
        "\n",
        "#векторизация\n",
        "vectorized_mus = vectorizer_1.transform(music)\n",
        "clf_1.predict(vectorized_mus)\n"
      ]
    },
    {
      "cell_type": "markdown",
      "metadata": {
        "id": "-o3_83FKK9R4"
      },
      "source": [
        "# 3."
      ]
    },
    {
      "cell_type": "markdown",
      "metadata": {
        "id": "WtmpuwX6AZy6"
      },
      "source": [
        "3) С помощью набора данных по ссылке аналогичным образом научить модель отличать тексты песен Дэвида Боуи от текстов песен Пола МакКартни\n",
        "https://www.kaggle.com/italomarcelo/dataset-lyrics-music-mini"
      ]
    },
    {
      "cell_type": "code",
      "execution_count": 141,
      "metadata": {
        "id": "ShnlTrZkK9R5"
      },
      "outputs": [],
      "source": [
        "import pandas as pd\n",
        "from pandas.core.common import flatten\n",
        "\n",
        "dat = pd.read_csv(\"dataset-lyrics-musics-mini.csv\")\n",
        "columns = dat[['cantorNome', 'letra']]\n",
        "columns = columns[(columns.cantorNome == 'david-bowie') | (columns.cantorNome == 'paul-mccartney')]\n",
        "\n",
        "columns['lowered'] = columns['letra'].str.lower()"
      ]
    },
    {
      "cell_type": "markdown",
      "metadata": {
        "id": "-o377PHZK9R6"
      },
      "source": [
        "*Токенизация*"
      ]
    },
    {
      "cell_type": "code",
      "execution_count": 142,
      "metadata": {
        "colab": {
          "base_uri": "https://localhost:8080/"
        },
        "id": "aHUS4l81K9R6",
        "outputId": "9f2e0c9f-a149-4857-c6aa-b484d5c18ac9"
      },
      "outputs": [
        {
          "output_type": "stream",
          "name": "stderr",
          "text": [
            "[nltk_data] Downloading package punkt to /root/nltk_data...\n",
            "[nltk_data]   Package punkt is already up-to-date!\n"
          ]
        }
      ],
      "source": [
        "import nltk\n",
        "from nltk.tokenize import word_tokenize\n",
        "nltk.download('punkt')\n",
        "tokened = columns.apply(lambda row: nltk.word_tokenize(row['lowered']), axis=1)\n",
        "columns['tokened'] = tokened"
      ]
    },
    {
      "cell_type": "markdown",
      "metadata": {
        "id": "FN1MUlQuK9R6"
      },
      "source": [
        "Удаление стоп-слов"
      ]
    },
    {
      "cell_type": "code",
      "execution_count": 143,
      "metadata": {
        "colab": {
          "base_uri": "https://localhost:8080/"
        },
        "id": "DN5e_QAzK9R6",
        "outputId": "2b95d2df-d275-4e09-df06-9a42062fe07b"
      },
      "outputs": [
        {
          "output_type": "stream",
          "name": "stderr",
          "text": [
            "[nltk_data] Downloading package stopwords to /root/nltk_data...\n",
            "[nltk_data]   Package stopwords is already up-to-date!\n"
          ]
        }
      ],
      "source": [
        "nltk.download('stopwords')\n",
        "from nltk.corpus import stopwords"
      ]
    },
    {
      "cell_type": "code",
      "execution_count": 144,
      "metadata": {
        "id": "brNL9UUEK9R6"
      },
      "outputs": [],
      "source": [
        "noise = stopwords.words('english')\n",
        "withoutstop = columns['tokened'].apply(lambda x: [item for item in x if item not in noise])\n",
        "without_stop = []\n",
        "for a in withoutstop:\n",
        "    without_stop.append(\", \".join(a))\n",
        "columns['without_stop'] = without_stop"
      ]
    },
    {
      "cell_type": "markdown",
      "metadata": {
        "id": "bq3QzxRuK9R6"
      },
      "source": [
        "Лемматизация"
      ]
    },
    {
      "cell_type": "code",
      "execution_count": 145,
      "metadata": {
        "id": "PIzTKuvEK9R6",
        "colab": {
          "base_uri": "https://localhost:8080/"
        },
        "outputId": "fe99e865-d5ca-4513-f70d-1b61d1a88e03"
      },
      "outputs": [
        {
          "output_type": "stream",
          "name": "stderr",
          "text": [
            "[nltk_data] Downloading package wordnet to /root/nltk_data...\n",
            "[nltk_data]   Package wordnet is already up-to-date!\n"
          ]
        }
      ],
      "source": [
        "from nltk.stem import WordNetLemmatizer\n",
        "nltk.download('wordnet')\n",
        "lemmatizer = WordNetLemmatizer()"
      ]
    },
    {
      "cell_type": "code",
      "execution_count": 146,
      "metadata": {
        "id": "xSzyIolyK9R7"
      },
      "outputs": [],
      "source": [
        "lemmatized = columns['without_stop'].apply(lambda x: [lemmatizer.lemmatize(x)])\n",
        "lemma = []\n",
        "for a in lemmatized:\n",
        "    lemma.append(\", \".join(a))\n",
        "columns['lemmatized'] = lemma"
      ]
    },
    {
      "cell_type": "markdown",
      "metadata": {
        "id": "HE4PDjq6K9R7"
      },
      "source": [
        "Разделение данных"
      ]
    },
    {
      "cell_type": "markdown",
      "metadata": {
        "id": "ZYJA4POGTymQ"
      },
      "source": []
    },
    {
      "cell_type": "code",
      "execution_count": 147,
      "metadata": {
        "id": "LuExKPBVK9R7",
        "colab": {
          "base_uri": "https://localhost:8080/"
        },
        "outputId": "b63d82a1-c00b-405e-e375-8495144828c8"
      },
      "outputs": [
        {
          "output_type": "execute_result",
          "data": {
            "text/plain": [
              "david-bowie       483\n",
              "paul-mccartney    464\n",
              "Name: cantorNome, dtype: int64"
            ]
          },
          "metadata": {},
          "execution_count": 147
        }
      ],
      "source": [
        "from sklearn.model_selection import train_test_split\n",
        "x_train, x_test, y_train, y_test = train_test_split(columns.lemmatized, columns.cantorNome, train_size = 0.7)\n",
        "columns.cantorNome.value_counts()"
      ]
    },
    {
      "cell_type": "markdown",
      "metadata": {
        "id": "3bdzQxwtK9R7"
      },
      "source": [
        "Векторизация"
      ]
    },
    {
      "cell_type": "code",
      "execution_count": 148,
      "metadata": {
        "id": "Xdi40suwK9R7"
      },
      "outputs": [],
      "source": [
        "from sklearn.feature_extraction.text import CountVectorizer\n",
        "vectorizer = CountVectorizer(ngram_range=(1, 3))\n",
        "vectorized_x_train = vectorizer.fit_transform(x_train)"
      ]
    },
    {
      "cell_type": "markdown",
      "metadata": {
        "id": "znQekWmJK9R7"
      },
      "source": [
        "Классификация"
      ]
    },
    {
      "cell_type": "code",
      "execution_count": 149,
      "metadata": {
        "id": "cl60JpH2K9R7"
      },
      "outputs": [],
      "source": [
        "from sklearn.naive_bayes import MultinomialNB\n",
        "clf = MultinomialNB()\n",
        "clf.fit(vectorized_x_train, y_train)\n",
        "vectorized_x_test = vectorizer.transform(x_test)"
      ]
    },
    {
      "cell_type": "markdown",
      "metadata": {
        "id": "JbU2PCsfK9R7"
      },
      "source": [
        "Оценка классификации"
      ]
    },
    {
      "cell_type": "code",
      "execution_count": 150,
      "metadata": {
        "id": "dm8ibQEWK9R8",
        "colab": {
          "base_uri": "https://localhost:8080/"
        },
        "outputId": "ea8b21bb-bb7b-4f1b-8755-b26457e9ef0b"
      },
      "outputs": [
        {
          "output_type": "stream",
          "name": "stdout",
          "text": [
            "                precision    recall  f1-score   support\n",
            "\n",
            "   david-bowie       0.68      0.69      0.68       135\n",
            "paul-mccartney       0.72      0.71      0.71       150\n",
            "\n",
            "      accuracy                           0.70       285\n",
            "     macro avg       0.70      0.70      0.70       285\n",
            "  weighted avg       0.70      0.70      0.70       285\n",
            "\n"
          ]
        }
      ],
      "source": [
        "from sklearn.metrics import *\n",
        "pred = clf.predict(vectorized_x_test)\n",
        "print(classification_report(y_test, pred))"
      ]
    },
    {
      "cell_type": "markdown",
      "metadata": {
        "id": "RW6n0b0zsgDX"
      },
      "source": [
        "# Задание\n",
        "1. Найти (нагуглить) по песне каждого из жанров, которые Вам достались, после необходимой обработки текстов определить жанр обеих песен с помощью обученной  модели в ходе выполнения пункта `1` в Notebook `Контроль знаний 3-2.ipynb`.\n",
        "\n",
        "Провести Анализ всез жанров песен в тестовом датасете:\n",
        "- `Christian`,\n",
        "- `Country`,\n",
        "- `Hip-Hop`,\n",
        "- `Pop`,\n",
        "- `Rock`,\n",
        "- `R&B`.\n",
        "\n",
        "2. Научить модель отличать тексты песен двух певцов(выбрать самостоятельно) примере пункта `3` в Notebook `Контроль знаний 3-2.ipynb`."
      ]
    },
    {
      "cell_type": "markdown",
      "source": [
        "### Задание 1"
      ],
      "metadata": {
        "id": "aY4q-upcyhCR"
      }
    },
    {
      "cell_type": "code",
      "source": [
        "def preprocess_text(text):\n",
        "    tokens = nltk.word_tokenize(text.lower())\n",
        "    noise = stopwords.words('english')\n",
        "    tokens = [token for token in tokens if token not in noise]\n",
        "    lemmatizer = WordNetLemmatizer()\n",
        "    tokens = [lemmatizer.lemmatize(token) for token in tokens]\n",
        "    return ' '.join(tokens)"
      ],
      "metadata": {
        "id": "788KbzSpyjFQ"
      },
      "execution_count": 151,
      "outputs": []
    },
    {
      "cell_type": "code",
      "source": [
        "texts = [\n",
        "    'Take this world from me I dont need it anymore I am finally free My heart is spoken for  Oh and I praise You Oh and I worship You  Covered by Your love divine Child of the risen Lord To hear You say, \"\"This ones mine\"\" My heart is spoken for  Now I have a peace Ive never known before I find myself complete My heart is spoken for  Oh and I praise You Oh and I worship You  Covered by Your love divine Child of the risen Lord To hear You say, \"\"This ones mine\"\" My heart is spoken for  By the power of the cross Youve taken what was lost And made it fully Yours And I have been redeemed By You who spoke to me Now I am spoken for  Covered by Your love divine Child of the risen Lord To hear You say, \"\"This ones mine\"\" My heart is spoken for, yeah  Covered by Your love divine Child of the risen Lord To hear You say, \"\"This ones mine\"\" My heart is spoken for  Take this world from me I dont need it anymore',\n",
        "    'You are the sunshine of my life Thats why Ill always be around You are the apple of my eye Forever youll stay in my heart  I feel like this is the beginning Though Ive loved you for a million years And if I thought our love was ending Id find myself drowning in my own tears  You are the sunshine of my life, yeah Thats why Ill always stay around, yeah, yeah You are the apple of my eye Forever youll stay in my heart  You must have known that I was lonely Because you came to my rescue And I know that this must be Heaven How could so much love be inside of you?  You are the sunshine of my life, yeah Thats why Ill always stay around You are the apple of my eye Forever youll stay in my heart, yeah  You are the sunshine of my life, baby Thats why Ill always stay around'\n",
        "]"
      ],
      "metadata": {
        "id": "Wm0jmDwa1TNT"
      },
      "execution_count": 152,
      "outputs": []
    },
    {
      "cell_type": "code",
      "source": [
        "processed_texts = [preprocess_text(text) for text in texts]"
      ],
      "metadata": {
        "id": "RVbJT6tU1gEf"
      },
      "execution_count": 153,
      "outputs": []
    },
    {
      "cell_type": "code",
      "source": [
        "vectorized_texts = vectorizer_1.transform(processed_texts)"
      ],
      "metadata": {
        "id": "Z1NAALET1lEz"
      },
      "execution_count": 154,
      "outputs": []
    },
    {
      "cell_type": "code",
      "source": [
        "predictions = clf_1.predict(vectorized_texts)"
      ],
      "metadata": {
        "id": "csnYxYZf1nnv"
      },
      "execution_count": 155,
      "outputs": []
    },
    {
      "cell_type": "code",
      "source": [
        "predictions"
      ],
      "metadata": {
        "colab": {
          "base_uri": "https://localhost:8080/"
        },
        "id": "DjQ0PBUH1u-3",
        "outputId": "7bfea39c-d636-4f7e-bf4c-5ed676844d81"
      },
      "execution_count": 156,
      "outputs": [
        {
          "output_type": "execute_result",
          "data": {
            "text/plain": [
              "array(['Christian', 'Pop'], dtype='<U9')"
            ]
          },
          "metadata": {},
          "execution_count": 156
        }
      ]
    },
    {
      "cell_type": "markdown",
      "source": [
        "Все верно\n",
        "\n",
        "Небольшой анализ тестовой части датасета"
      ],
      "metadata": {
        "id": "fybdk-kA3tTu"
      }
    },
    {
      "cell_type": "code",
      "source": [
        "y_test_1"
      ],
      "metadata": {
        "colab": {
          "base_uri": "https://localhost:8080/"
        },
        "id": "soMNOpqs5_9h",
        "outputId": "1578660f-1e0d-4a54-d2bb-6ea610dd521d"
      },
      "execution_count": 160,
      "outputs": [
        {
          "output_type": "execute_result",
          "data": {
            "text/plain": [
              "304          Pop\n",
              "34     Christian\n",
              "91     Christian\n",
              "324          Pop\n",
              "345          Pop\n",
              "65     Christian\n",
              "315          Pop\n",
              "356          Pop\n",
              "366          Pop\n",
              "300          Pop\n",
              "26     Christian\n",
              "16     Christian\n",
              "77     Christian\n",
              "31     Christian\n",
              "75     Christian\n",
              "7      Christian\n",
              "80     Christian\n",
              "6      Christian\n",
              "290          Pop\n",
              "68     Christian\n",
              "273          Pop\n",
              "370          Pop\n",
              "352          Pop\n",
              "302          Pop\n",
              "54     Christian\n",
              "21     Christian\n",
              "36     Christian\n",
              "53     Christian\n",
              "82     Christian\n",
              "62     Christian\n",
              "55     Christian\n",
              "90     Christian\n",
              "13     Christian\n",
              "298          Pop\n",
              "24     Christian\n",
              "329          Pop\n",
              "276          Pop\n",
              "325          Pop\n",
              "73     Christian\n",
              "64     Christian\n",
              "11     Christian\n",
              "22     Christian\n",
              "303          Pop\n",
              "76     Christian\n",
              "341          Pop\n",
              "336          Pop\n",
              "63     Christian\n",
              "344          Pop\n",
              "18     Christian\n",
              "9      Christian\n",
              "5      Christian\n",
              "74     Christian\n",
              "322          Pop\n",
              "367          Pop\n",
              "58     Christian\n",
              "307          Pop\n",
              "44     Christian\n",
              "37     Christian\n",
              "52     Christian\n",
              "Name: genre, dtype: object"
            ]
          },
          "metadata": {},
          "execution_count": 160
        }
      ]
    },
    {
      "cell_type": "code",
      "source": [
        "genre_counts = y_test_1.value_counts()\n",
        "genre_counts"
      ],
      "metadata": {
        "colab": {
          "base_uri": "https://localhost:8080/"
        },
        "id": "tGyM2sif6qH6",
        "outputId": "4afad36a-cf45-4c89-ba7a-80488ecdc70f"
      },
      "execution_count": 163,
      "outputs": [
        {
          "output_type": "execute_result",
          "data": {
            "text/plain": [
              "Christian    36\n",
              "Pop          23\n",
              "Name: genre, dtype: int64"
            ]
          },
          "metadata": {},
          "execution_count": 163
        }
      ]
    },
    {
      "cell_type": "code",
      "source": [
        "import seaborn as sns\n",
        "import matplotlib.pyplot as plt\n",
        "\n",
        "plt.figure(figsize=(10, 6))\n",
        "sns.barplot(x=genre_counts.index, y=genre_counts.values, palette='viridis')\n",
        "plt.title('Распределение жанров в тестовом наборе данных')\n",
        "plt.xlabel('Жанр')\n",
        "plt.ylabel('Количество песен')\n",
        "plt.show()"
      ],
      "metadata": {
        "colab": {
          "base_uri": "https://localhost:8080/",
          "height": 651
        },
        "id": "V1fvGoTS71-3",
        "outputId": "36ee2bc4-aa63-4a34-ee5e-5b46279740be"
      },
      "execution_count": 166,
      "outputs": [
        {
          "output_type": "stream",
          "name": "stderr",
          "text": [
            "<ipython-input-166-7e52fa201059>:5: FutureWarning: \n",
            "\n",
            "Passing `palette` without assigning `hue` is deprecated and will be removed in v0.14.0. Assign the `x` variable to `hue` and set `legend=False` for the same effect.\n",
            "\n",
            "  sns.barplot(x=genre_counts.index, y=genre_counts.values, palette='viridis')\n"
          ]
        },
        {
          "output_type": "display_data",
          "data": {
            "text/plain": [
              "<Figure size 1000x600 with 1 Axes>"
            ],
            "image/png": "[encoded data removed]"
          },
          "metadata": {}
        }
      ]
    },
    {
      "cell_type": "markdown",
      "source": [
        "### Задание 2"
      ],
      "metadata": {
        "id": "crXc0PUX5PBM"
      }
    },
    {
      "cell_type": "code",
      "source": [
        "dat = pd.read_csv(\"dataset-lyrics-musics-mini.csv\")\n",
        "columns = dat[['cantorNome', 'letra']]\n",
        "columns = columns[(columns.cantorNome == 'evanescence') | (columns.cantorNome == 'ac-dc')]\n",
        "\n",
        "columns['lowered'] = columns['letra'].str.lower()"
      ],
      "metadata": {
        "id": "dxw2Btvc3uYe"
      },
      "execution_count": 98,
      "outputs": []
    },
    {
      "cell_type": "code",
      "source": [
        "tokened = columns.apply(lambda row: nltk.word_tokenize(row['lowered']), axis=1)\n",
        "columns['tokened'] = tokened\n",
        "\n",
        "noise = stopwords.words('english')\n",
        "withoutstop = columns['tokened'].apply(lambda x: [item for item in x if item not in noise])\n",
        "without_stop = []\n",
        "for a in withoutstop:\n",
        "    without_stop.append(\", \".join(a))\n",
        "columns['without_stop'] = without_stop\n",
        "\n",
        "lemmatizer = WordNetLemmatizer()\n",
        "\n",
        "lemmatized = columns['without_stop'].apply(lambda x: [lemmatizer.lemmatize(x)])\n",
        "lemma = []\n",
        "for a in lemmatized:\n",
        "    lemma.append(\", \".join(a))\n",
        "columns['lemmatized'] = lemma\n",
        "\n",
        "x_train, x_test, y_train, y_test = train_test_split(columns.lemmatized, columns.cantorNome, train_size = 0.7)\n",
        "columns.cantorNome.value_counts()"
      ],
      "metadata": {
        "colab": {
          "base_uri": "https://localhost:8080/"
        },
        "id": "S9IPG1I05cSj",
        "outputId": "24f45281-406d-4bf7-93ab-e418a170d9e1"
      },
      "execution_count": 99,
      "outputs": [
        {
          "output_type": "execute_result",
          "data": {
            "text/plain": [
              "ac-dc          217\n",
              "evanescence    154\n",
              "Name: cantorNome, dtype: int64"
            ]
          },
          "metadata": {},
          "execution_count": 99
        }
      ]
    },
    {
      "cell_type": "code",
      "source": [
        "vectorizer = CountVectorizer(ngram_range=(1, 3))\n",
        "vectorized_x_train = vectorizer.fit_transform(x_train)\n",
        "\n",
        "clf = MultinomialNB()\n",
        "clf.fit(vectorized_x_train, y_train)\n",
        "vectorized_x_test = vectorizer.transform(x_test)\n",
        "\n",
        "pred = clf.predict(vectorized_x_test)\n",
        "print(classification_report(y_test, pred))"
      ],
      "metadata": {
        "colab": {
          "base_uri": "https://localhost:8080/"
        },
        "id": "66o8xjL95rEo",
        "outputId": "be7e3721-61cf-4a16-a506-aa9ed802baf8"
      },
      "execution_count": 100,
      "outputs": [
        {
          "output_type": "stream",
          "name": "stdout",
          "text": [
            "              precision    recall  f1-score   support\n",
            "\n",
            "       ac-dc       0.95      0.96      0.95        73\n",
            " evanescence       0.92      0.90      0.91        39\n",
            "\n",
            "    accuracy                           0.94       112\n",
            "   macro avg       0.93      0.93      0.93       112\n",
            "weighted avg       0.94      0.94      0.94       112\n",
            "\n"
          ]
        }
      ]
    }
  ],
  "metadata": {
    "colab": {
      "provenance": []
    },
    "kernelspec": {
      "display_name": "Python 3",
      "name": "python3"
    },
    "language_info": {
      "name": "python"
    }
  },
  "nbformat": 4,
  "nbformat_minor": 0
}